{
 "cells": [
  {
   "cell_type": "code",
   "execution_count": 1,
   "id": "7e3bad1f",
   "metadata": {},
   "outputs": [
    {
     "name": "stderr",
     "output_type": "stream",
     "text": [
      "/Users/xiongsimeng/anaconda3/lib/python3.11/site-packages/pandas/core/arrays/masked.py:60: UserWarning: Pandas requires version '1.3.6' or newer of 'bottleneck' (version '1.3.5' currently installed).\n",
      "  from pandas.core import (\n"
     ]
    }
   ],
   "source": [
    "import re\n",
    "import pandas as pd\n",
    "import numpy as np\n",
    "import matplotlib.pyplot as plt\n",
    "from sklearn.preprocessing import OrdinalEncoder\n",
    "import seaborn as sns"
   ]
  },
  {
   "cell_type": "code",
   "execution_count": 2,
   "id": "3046e34c",
   "metadata": {},
   "outputs": [
    {
     "name": "stderr",
     "output_type": "stream",
     "text": [
      "/var/folders/nw/3jwfxsxs5hjf1kw6d5bq2bnw0000gn/T/ipykernel_79149/4083409249.py:1: DtypeWarning: Columns (133) have mixed types. Specify dtype option on import or set low_memory=False.\n",
      "  merged=pd.read_csv(\"merged_exact.csv\")\n"
     ]
    },
    {
     "data": {
      "text/plain": [
       "(6060, 209)"
      ]
     },
     "execution_count": 2,
     "metadata": {},
     "output_type": "execute_result"
    }
   ],
   "source": [
    "merged=pd.read_csv(\"merged_exact.csv\")\n",
    "merged.shape"
   ]
  },
  {
   "cell_type": "code",
   "execution_count": 3,
   "id": "9f154f7d",
   "metadata": {},
   "outputs": [],
   "source": [
    "# Add the median for each fetal growth curve \n",
    "brenner = {\n",
    "    21: 410, 22: 480, 23: 530, 24: 640, 25: 740,\n",
    "    26: 850, 27: 990, 28:1150, 29:1310, 30:1460,\n",
    "    31:1630, 32:1810, 33:2010, 34:2220, 35:2430,\n",
    "    36:2650, 37:2870, 38:3030, 39:3170, 40:3280,\n",
    "    41:3360, 42:3410, 43:3420, 44:3390\n",
    "}\n",
    "\n",
    "who_general = {\n",
    "    14:  90, 15: 114, 16: 144, 17: 179, 18: 222, \n",
    "    19: 272, 20: 330, 21: 398, 22: 476, 23: 565,\n",
    "    24: 665, 25: 778, 26: 902, 27: 1039, 28: 1189,\n",
    "    29: 1350, 30: 1523, 31: 1707, 32: 1901, 33: 2103,\n",
    "    34: 2312, 35: 2527, 36: 2745, 37: 2966, 38: 3186,\n",
    "    39: 3403, 40: 3617\n",
    "}\n",
    "\n",
    "who_female = {\n",
    "    14:  89, 15: 113, 16: 141, 17: 176, 18: 217, \n",
    "    19: 266, 20: 322, 21: 388, 22: 464, 23: 551,\n",
    "    24: 649, 25: 758, 26: 880, 27: 1014, 28: 1160,\n",
    "    29: 1319, 30: 1489, 31: 1670, 32: 1861, 33: 2060,\n",
    "    34: 2268, 35: 2481, 36: 2689, 37: 2917, 38: 3136,\n",
    "    39: 3354, 40: 3567\n",
    "}\n",
    "\n",
    "who_male = {\n",
    "    14:  92, 15: 116, 16: 146, 17: 183, 18: 226, \n",
    "    19: 277, 20: 337, 21: 407, 22: 487, 23: 578,\n",
    "    24: 681, 25: 795, 26: 923, 27: 1063, 28: 1215,\n",
    "    29: 1379, 30: 1555, 31: 1741, 32: 1937, 33: 2140,\n",
    "    34: 2350, 35: 2565, 36: 2783, 37: 3001, 38: 3218,\n",
    "    39: 3432, 40: 3639\n",
    "}\n",
    "\n",
    "intergrowth = {\n",
    "    18: 216, \n",
    "    19: 263, 20: 318, 21: 381, 22: 454, 23: 537,\n",
    "    24: 630, 25: 734, 26: 851, 27: 979, 28: 1119,\n",
    "    29: 1272, 30: 1435, 31: 1610, 32: 1795, 33: 1988,\n",
    "    34: 2189, 35: 2394, 36: 2602, 37: 2811, 38: 3017,\n",
    "    39: 3217, 40: 3409, 41: 3588\n",
    "}"
   ]
  },
  {
   "cell_type": "markdown",
   "id": "a02aaa93",
   "metadata": {},
   "source": [
    "## Interpolates "
   ]
  },
  {
   "cell_type": "code",
   "execution_count": 4,
   "id": "5514de40",
   "metadata": {},
   "outputs": [],
   "source": [
    "# Build an interpolation function for each Fetal Growth Curve \n",
    "def make_interp(med_map):\n",
    "    weeks = np.array(sorted(med_map.keys()))            # [14,15,…]\n",
    "    days  = weeks * 7                                   # [98,105,…] actual days\n",
    "    meds  = np.array([med_map[w] for w in weeks])       # medians at those weeks\n",
    "\n",
    "    return lambda gdays: np.interp(gdays, days, meds)   # return the function of f(gdays)\n",
    "\n",
    "# create one interp‐func per table\n",
    "interp_brenner    = make_interp(brenner)\n",
    "interp_who_general= make_interp(who_general)\n",
    "interp_who_female = make_interp(who_female)\n",
    "interp_who_male   = make_interp(who_male)\n",
    "interp_intergrowth   = make_interp(intergrowth)\n",
    "\n",
    "# Parse GA at delivery and ultrasound into absolute days\n",
    "# GA at ultrasound is written as 36w 5d\n",
    "# e.g. “36w 5d” → 36*7 + 5 = 257 days\n",
    "parsed = merged['best'].str.extract(r'(?P<wk>\\d+)\\s*[wW]\\s*(?P<d>\\d+)\\s*[dD]', expand=True)\n",
    "merged['ultra_days'] = parsed['wk'].astype(int)*7 + parsed['d'].astype(int)\n",
    "# delivery GA are already in days\n",
    "merged['deliv_days'] = merged['gestday']\n",
    "    \n",
    "# Interpolated version of predicted_bw with argument of mode\n",
    "def compute_predicted_bw_interp(row,mode):\n",
    "    # pick the right interp‐function\n",
    "    if mode == 'brenner':\n",
    "        med_dict,f = brenner,interp_brenner\n",
    "    elif mode == 'who_general':\n",
    "        med_dict,f = who_general,interp_who_general\n",
    "    elif mode == 'intergrowth':\n",
    "        med_dict,f = intergrowth,interp_intergrowth\n",
    "    elif mode == 'who_sex':\n",
    "        if row['sex_of_inf'] == '2:Female':\n",
    "            med_dict,f = who_female, interp_who_female\n",
    "        elif row['sex_of_inf'] == '1:Male':\n",
    "            med_dict,f = who_male,interp_who_male\n",
    "        else:\n",
    "            return pd.NA\n",
    "    else:\n",
    "        return pd.NA\n",
    "    \n",
    "    # handle missing f_weight\n",
    "    if pd.isna(row['f_weight']) or row['f_weight'] == 0:\n",
    "        return pd.NA\n",
    "\n",
    "    # compute the valid day‐range from med_dict\n",
    "    min_wk, max_wk = min(med_dict), max(med_dict)\n",
    "    min_day, max_day = min_wk * 7, max_wk * 7\n",
    "\n",
    "    # if either day is out of range, return NA\n",
    "    if not (min_day <= row['ultra_days'] <= max_day) or not (min_day <= row['deliv_days'] <= max_day):\n",
    "        return pd.NA\n",
    "\n",
    "    # get the median at the exact day\n",
    "    med_u = f(row['ultra_days'])\n",
    "    med_d = f(row['deliv_days'])\n",
    "    \n",
    "    # apply the GAP formula and return the predicted fetal weight \n",
    "    return int(med_d * row['f_weight'] / med_u)\n"
   ]
  },
  {
   "cell_type": "markdown",
   "id": "7e63c957",
   "metadata": {},
   "source": [
    "## Sample calculated the predicted Fetal weight using Brenner "
   ]
  },
  {
   "cell_type": "code",
   "execution_count": 5,
   "id": "c2cb96a8",
   "metadata": {},
   "outputs": [],
   "source": [
    "merged['predicted_bw_brenner'] = merged.apply(compute_predicted_bw_interp, axis=1,args=('brenner',)).astype(\"Int64\")"
   ]
  },
  {
   "cell_type": "code",
   "execution_count": 12,
   "id": "123a7d52",
   "metadata": {},
   "outputs": [
    {
     "name": "stdout",
     "output_type": "stream",
     "text": [
      "Number of NAs in predicted_bw_interp: 1307\n",
      "Percent of NAs in predicted_bw_interp: 22.63203463203463\n"
     ]
    }
   ],
   "source": [
    "# Count the number of missing values in the interpolated prediction\n",
    "n_na_brenner = merged['predicted_bw_brenner'].isna().sum()\n",
    "pct_na_brenner = merged['predicted_bw_brenner'].isna().mean()*100\n",
    "print(f\"Number of NAs in predicted_bw_interp: {n_na_brenner}\")\n",
    "print(f\"Percent of NAs in predicted_bw_interp: {pct_na_brenner}\")"
   ]
  },
  {
   "cell_type": "code",
   "execution_count": 13,
   "id": "61c412fd",
   "metadata": {
    "scrolled": true
   },
   "outputs": [
    {
     "name": "stdout",
     "output_type": "stream",
     "text": [
      "count         4468.0\n",
      "mean     3483.765219\n",
      "std       511.195155\n",
      "min           1719.0\n",
      "25%           3155.0\n",
      "50%           3476.0\n",
      "75%           3816.0\n",
      "max           5915.0\n",
      "Name: predicted_bw_brenner, dtype: Float64\n"
     ]
    }
   ],
   "source": [
    "print( merged['predicted_bw_brenner'].describe() )"
   ]
  },
  {
   "cell_type": "code",
   "execution_count": 14,
   "id": "0bdae6b1",
   "metadata": {},
   "outputs": [
    {
     "data": {
      "text/plain": [
       "count        4468.0\n",
       "mean     113.721576\n",
       "std      276.182678\n",
       "min         -1339.0\n",
       "25%           -61.0\n",
       "50%           119.0\n",
       "75%           294.0\n",
       "max          1288.0\n",
       "Name: error_brenner, dtype: Float64"
      ]
     },
     "execution_count": 14,
     "metadata": {},
     "output_type": "execute_result"
    }
   ],
   "source": [
    "merged[\"error_brenner\"] = (merged['predicted_bw_brenner'] - merged['birth_wgt'])\n",
    "merged[\"error_brenner\"].describe()"
   ]
  },
  {
   "cell_type": "code",
   "execution_count": 15,
   "id": "87cb2b29",
   "metadata": {},
   "outputs": [
    {
     "data": {
      "text/plain": [
       "count        4468.0\n",
       "mean     235.501343\n",
       "std      183.681968\n",
       "min             0.0\n",
       "25%            94.0\n",
       "50%           194.0\n",
       "75%           336.0\n",
       "max          1339.0\n",
       "Name: abs_error_brenner, dtype: Float64"
      ]
     },
     "execution_count": 15,
     "metadata": {},
     "output_type": "execute_result"
    }
   ],
   "source": [
    "merged['abs_error_brenner'] = (merged['predicted_bw_brenner'] - merged['birth_wgt']).abs()\n",
    "merged['abs_error_brenner'].describe()"
   ]
  },
  {
   "cell_type": "code",
   "execution_count": 16,
   "id": "15f40f1c",
   "metadata": {},
   "outputs": [
    {
     "data": {
      "text/plain": [
       "count       4468.0\n",
       "mean       3.81334\n",
       "std        8.38388\n",
       "min      -27.26094\n",
       "25%      -1.769231\n",
       "50%       3.591036\n",
       "75%       9.047619\n",
       "max      44.490501\n",
       "Name: pct_error_brenner, dtype: Float64"
      ]
     },
     "execution_count": 16,
     "metadata": {},
     "output_type": "execute_result"
    }
   ],
   "source": [
    "merged['pct_error_brenner'] = (merged['predicted_bw_brenner'] - merged['birth_wgt']) / merged['birth_wgt'] * 100\n",
    "merged[\"pct_error_brenner\"].describe()"
   ]
  },
  {
   "cell_type": "code",
   "execution_count": 17,
   "id": "6aa5da3c",
   "metadata": {},
   "outputs": [
    {
     "data": {
      "text/plain": [
       "count       4468.0\n",
       "mean      7.169674\n",
       "std       5.780876\n",
       "min            0.0\n",
       "25%       2.740375\n",
       "50%       5.828774\n",
       "75%      10.340804\n",
       "max      44.490501\n",
       "Name: abs_pct_error_brenner, dtype: Float64"
      ]
     },
     "execution_count": 17,
     "metadata": {},
     "output_type": "execute_result"
    }
   ],
   "source": [
    "merged['abs_pct_error_brenner']= ((merged['predicted_bw_brenner'] - merged['birth_wgt']) / merged['birth_wgt'] * 100).abs()\n",
    "merged['abs_pct_error_brenner'].describe()"
   ]
  },
  {
   "cell_type": "code",
   "execution_count": 50,
   "id": "0ed648fc",
   "metadata": {},
   "outputs": [
    {
     "data": {
      "image/png": "[encoded data removed]",
      "text/plain": [
       "<Figure size 640x480 with 1 Axes>"
      ]
     },
     "metadata": {},
     "output_type": "display_data"
    }
   ],
   "source": [
    "errors = merged['pct_error_brenner'].dropna()\n",
    "bins = np.arange(-30, 52, 2)\n",
    "xlim = (-30, 50)\n",
    "ylim = (0, 500)\n",
    "# plot histogram\n",
    "plt.figure()\n",
    "plt.hist(errors, bins=bins)\n",
    "plt.xlabel('Percent Error (%)')\n",
    "plt.ylabel('Frequency')\n",
    "plt.title('Distribution of Percent Error (Brenner Curve)')\n",
    "plt.axvline(0, color='red', linestyle='--', linewidth=2)\n",
    "plt.xlim(xlim)                       \n",
    "plt.ylim(ylim)                       \n",
    "plt.show()"
   ]
  },
  {
   "cell_type": "code",
   "execution_count": null,
   "id": "8ba95daf",
   "metadata": {},
   "outputs": [],
   "source": []
  },
  {
   "cell_type": "code",
   "execution_count": null,
   "id": "6ea7e542",
   "metadata": {},
   "outputs": [],
   "source": []
  }
 ],
 "metadata": {
  "kernelspec": {
   "display_name": "Python 3 (ipykernel)",
   "language": "python",
   "name": "python3"
  },
  "language_info": {
   "codemirror_mode": {
    "name": "ipython",
    "version": 3
   },
   "file_extension": ".py",
   "mimetype": "text/x-python",
   "name": "python",
   "nbconvert_exporter": "python",
   "pygments_lexer": "ipython3",
   "version": "3.11.5"
  }
 },
 "nbformat": 4,
 "nbformat_minor": 5
}
